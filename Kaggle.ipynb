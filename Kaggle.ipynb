{
 "cells": [
  {
   "cell_type": "code",
   "execution_count": 1,
   "metadata": {},
   "outputs": [],
   "source": [
    "%matplotlib inline\n",
    "%load_ext autoreload\n",
    "%autoreload 2\n",
    "\n",
    "from PIL import Image\n",
    "import glob, os\n",
    "import tensorflow as tf\n",
    "import numpy as np\n",
    "import pandas as pd\n",
    "import os\n",
    "import pickle\n",
    "from os import listdir\n",
    "from os.path import isfile, join\n",
    "from tensorflow.keras.layers import Dense,GlobalAveragePooling2D, BatchNormalization, Dropout\n",
    "from tensorflow.keras.applications import MobileNet\n",
    "from tensorflow.keras.applications import VGG19\n",
    "from tensorflow.keras.applications import VGG16\n",
    "from tensorflow.keras.applications import MobileNetV2\n",
    "from tensorflow.keras.applications import Xception\n",
    "from tensorflow.keras.applications import InceptionV3\n",
    "from tensorflow.keras.applications import InceptionResNetV2\n",
    "from tensorflow.keras.preprocessing import image\n",
    "from tensorflow.keras.applications.mobilenet import preprocess_input\n",
    "from tensorflow.keras.preprocessing.image import ImageDataGenerator\n",
    "from tensorflow.keras.models import Model\n",
    "from tensorflow.keras.optimizers import Adam\n",
    "from sklearn.model_selection import train_test_split\n",
    "from tensorflow.keras.callbacks import EarlyStopping"
   ]
  },
  {
   "cell_type": "code",
   "execution_count": 2,
   "metadata": {},
   "outputs": [
    {
     "name": "stdout",
     "output_type": "stream",
     "text": [
      "./data/Kaggle/kaggle_train_128/train_128/0/\n",
      "./data/Kaggle/kaggle_train_128/train_128/1/\n",
      "./data/Kaggle/kaggle_train_128/train_128/2/\n",
      "./data/Kaggle/kaggle_train_128/train_128/3/\n",
      "./data/Kaggle/kaggle_train_128/train_128/4/\n",
      "(15000, 128, 128, 3)\n",
      "(15000,)\n",
      "(3500, 128, 128, 3)\n"
     ]
    }
   ],
   "source": [
    "train_dir = './data/Kaggle/kaggle_train_128/train_128/'\n",
    "\n",
    "# Training data\n",
    "X_train = []\n",
    "y_train = []\n",
    "for i in range(5):\n",
    "    subdir = train_dir + str(i) + '/'\n",
    "    print(subdir)\n",
    "    only_train_files = [f for f in listdir(subdir) if isfile(join(subdir, f))]  # all .png files\n",
    "    for o_train in only_train_files:\n",
    "        im_train = Image.open(subdir + o_train)\n",
    "        X_train.append(np.array(im_train))\n",
    "        im_train.close()\n",
    "        y_train.append(i)\n",
    "\n",
    "test_dir = './data/Kaggle/kaggle_test_128/test_128/'\n",
    "\n",
    "# Test data\n",
    "X_test = []\n",
    "only_test_files = [g for g in listdir(test_dir) if isfile(join(test_dir, g))]  # all .png files\n",
    "for o_test in only_test_files:\n",
    "    im_test = Image.open(test_dir + o_test)\n",
    "    X_test.append(np.array(im_test))\n",
    "    im_test.close()\n",
    "\n",
    "X_train = np.array(X_train)\n",
    "y_train = np.array(y_train)\n",
    "X_test = np.array(X_test)\n",
    "\n",
    "print(X_train.shape)\n",
    "print(y_train.shape)\n",
    "print(X_test.shape)"
   ]
  },
  {
   "cell_type": "code",
   "execution_count": 3,
   "metadata": {},
   "outputs": [],
   "source": [
    "X = X_train\n",
    "y = y_train\n",
    "\n",
    "# Split training data into train and validation\n",
    "X_train, X_val, y_train, y_val = train_test_split(X, y, test_size=0.20, random_state=42)\n",
    "\n",
    "mean_image = np.mean(X_train, axis=0)\n",
    "X_train = X_train.astype(np.float32) - mean_image.astype(np.float32)\n",
    "X_val = X_val.astype(np.float32) - mean_image\n"
   ]
  },
  {
   "cell_type": "code",
   "execution_count": 4,
   "metadata": {},
   "outputs": [
    {
     "name": "stdout",
     "output_type": "stream",
     "text": [
      "Train data shape:  (12000, 128, 128, 3)\n",
      "Training labels shape:  (12000,)\n",
      "Validation data shape:  (3000, 128, 128, 3)\n",
      "Validation labels shape:  (3000,)\n",
      "Test data shape:  (3500, 128, 128, 3)\n",
      "Train labels shape (one-hot):  (12000, 5)\n",
      "Validation labels shape (one-hot):  (3000, 5)\n"
     ]
    }
   ],
   "source": [
    "print('Train data shape: ', X_train.shape)\n",
    "print('Training labels shape: ', y_train.shape)\n",
    "print('Validation data shape: ', X_val.shape)\n",
    "print('Validation labels shape: ', y_val.shape)\n",
    "print('Test data shape: ', X_test.shape)\n",
    "\n",
    "y_train_dummy = tf.keras.utils.to_categorical(y_train)\n",
    "y_val_dummy = tf.keras.utils.to_categorical(y_val)\n",
    "print('Train labels shape (one-hot): ', y_train_dummy.shape)\n",
    "print('Validation labels shape (one-hot): ', y_val_dummy.shape)"
   ]
  },
  {
   "cell_type": "code",
   "execution_count": 5,
   "metadata": {},
   "outputs": [
    {
     "name": "stderr",
     "output_type": "stream",
     "text": [
      "/home/ecbm4040/miniconda3/envs/envTF113/lib/python3.6/site-packages/keras_applications/mobilenet.py:207: UserWarning: `input_shape` is undefined or non-square, or `rows` is not in [128, 160, 192, 224]. Weights for input shape (224, 224) will be loaded as the default.\n",
      "  warnings.warn('`input_shape` is undefined or non-square, '\n"
     ]
    },
    {
     "name": "stdout",
     "output_type": "stream",
     "text": [
      "WARNING:tensorflow:From /home/ecbm4040/miniconda3/envs/envTF113/lib/python3.6/site-packages/tensorflow/python/ops/resource_variable_ops.py:435: colocate_with (from tensorflow.python.framework.ops) is deprecated and will be removed in a future version.\n",
      "Instructions for updating:\n",
      "Colocations handled automatically by placer.\n",
      "WARNING:tensorflow:From /home/ecbm4040/miniconda3/envs/envTF113/lib/python3.6/site-packages/tensorflow/python/keras/layers/core.py:143: calling dropout (from tensorflow.python.ops.nn_ops) with keep_prob is deprecated and will be removed in a future version.\n",
      "Instructions for updating:\n",
      "Please use `rate` instead of `keep_prob`. Rate should be set to `rate = 1 - keep_prob`.\n"
     ]
    }
   ],
   "source": [
    "#imports the mobilenet model and discards the last 1000 neuron layer.\n",
    "base_model=MobileNet(weights='imagenet',include_top=False) \n",
    "# base_model=VGG16(weights='imagenet',include_top=False) \n",
    "# base_model=Xception(weights='imagenet',include_top=False) \n",
    "# base_model=VGG19(weights='imagenet',include_top=False) \n",
    "# base_model=InceptionV3(weights='imagenet',include_top=False) \n",
    "# base_model=InceptionResNetV2(weights='imagenet',include_top=False) \n",
    "# base_model=MobileNetV2(weights='imagenet',include_top=False) \n",
    "# base_model=NASNet(weights='imagenet',include_top=False) \n",
    "\n",
    "\n",
    "x=base_model.output\n",
    "x=GlobalAveragePooling2D()(x)\n",
    "x=Dense(1024,activation='relu')(x) #dense layer 1\n",
    "x=BatchNormalization()(x)\n",
    "x=Dropout(0.5)(x)\n",
    "x=Dense(1024,activation='relu')(x) #dense layer 2\n",
    "x=Dropout(0.2)(x)\n",
    "x=Dense(512,activation='relu')(x) #dense layer 3\n",
    "preds=Dense(5,activation='softmax')(x) #final layer with softmax activation"
   ]
  },
  {
   "cell_type": "code",
   "execution_count": 6,
   "metadata": {},
   "outputs": [],
   "source": [
    "model=Model(inputs=base_model.input,outputs=preds)"
   ]
  },
  {
   "cell_type": "code",
   "execution_count": 7,
   "metadata": {},
   "outputs": [],
   "source": [
    "for layer in model.layers[:15]:\n",
    "    layer.trainable=False\n",
    "for layer in model.layers[15:]:\n",
    "    layer.trainable=True"
   ]
  },
  {
   "cell_type": "code",
   "execution_count": 8,
   "metadata": {},
   "outputs": [],
   "source": [
    "model.compile(optimizer='Adam',loss='categorical_crossentropy',metrics=['accuracy'])\n",
    "\n",
    "es = EarlyStopping(monitor='val_loss', mode='min', verbose=1, patience=3)"
   ]
  },
  {
   "cell_type": "code",
   "execution_count": 9,
   "metadata": {},
   "outputs": [],
   "source": [
    "bs= 16 \n",
    "epc = 20 \n",
    "\n",
    "train_datagen = ImageDataGenerator(preprocessing_function=preprocess_input) #included in our dependencies\n",
    "train_generator = train_datagen.flow(X_train, y_train_dummy, batch_size=bs)\n",
    "step_size_train=train_generator.n//train_generator.batch_size"
   ]
  },
  {
   "cell_type": "code",
   "execution_count": 10,
   "metadata": {
    "scrolled": true
   },
   "outputs": [
    {
     "name": "stdout",
     "output_type": "stream",
     "text": [
      "WARNING:tensorflow:From /home/ecbm4040/miniconda3/envs/envTF113/lib/python3.6/site-packages/tensorflow/python/ops/math_ops.py:3066: to_int32 (from tensorflow.python.ops.math_ops) is deprecated and will be removed in a future version.\n",
      "Instructions for updating:\n",
      "Use tf.cast instead.\n",
      "Epoch 1/20\n",
      "3000/3000 [==============================] - 5s 2ms/sample - loss: 1.4443 - acc: 0.6853\n",
      "750/750 [==============================] - 80s 107ms/step - loss: 0.4872 - acc: 0.8473 - val_loss: 1.4446 - val_acc: 0.6853\n",
      "Epoch 2/20\n",
      "3000/3000 [==============================] - 4s 1ms/sample - loss: 1.1225 - acc: 0.7117\n",
      "750/750 [==============================] - 56s 74ms/step - loss: 0.2192 - acc: 0.9398 - val_loss: 1.1255 - val_acc: 0.7117\n",
      "Epoch 3/20\n",
      "3000/3000 [==============================] - 4s 1ms/sample - loss: 0.7316 - acc: 0.7613\n",
      "750/750 [==============================] - 55s 74ms/step - loss: 0.1807 - acc: 0.9517 - val_loss: 0.7315 - val_acc: 0.7613\n",
      "Epoch 4/20\n",
      "3000/3000 [==============================] - 4s 1ms/sample - loss: 0.9270 - acc: 0.6777\n",
      "750/750 [==============================] - 56s 74ms/step - loss: 0.1638 - acc: 0.9584 - val_loss: 0.9282 - val_acc: 0.6777\n",
      "Epoch 5/20\n",
      "3000/3000 [==============================] - 4s 1ms/sample - loss: 0.9386 - acc: 0.6817\n",
      "750/750 [==============================] - 56s 75ms/step - loss: 0.1402 - acc: 0.9656 - val_loss: 0.9392 - val_acc: 0.6817\n",
      "Epoch 6/20\n",
      "3000/3000 [==============================] - 4s 1ms/sample - loss: 0.9258 - acc: 0.7333\n",
      "750/750 [==============================] - 56s 74ms/step - loss: 0.1216 - acc: 0.9702 - val_loss: 0.9264 - val_acc: 0.7333\n",
      "Epoch 7/20\n",
      "3000/3000 [==============================] - 4s 1ms/sample - loss: 1.6339 - acc: 0.7417\n",
      "750/750 [==============================] - 55s 74ms/step - loss: 0.1380 - acc: 0.9663 - val_loss: 1.6335 - val_acc: 0.7417\n",
      "Epoch 8/20\n",
      "3000/3000 [==============================] - 4s 1ms/sample - loss: 0.9946 - acc: 0.6747\n",
      "750/750 [==============================] - 55s 74ms/step - loss: 0.1354 - acc: 0.9697 - val_loss: 0.9948 - val_acc: 0.6747\n",
      "Epoch 9/20\n",
      "3000/3000 [==============================] - 4s 1ms/sample - loss: 1.2243 - acc: 0.6883\n",
      "750/750 [==============================] - 56s 74ms/step - loss: 0.1292 - acc: 0.9720 - val_loss: 1.2238 - val_acc: 0.6883\n",
      "Epoch 10/20\n",
      "3000/3000 [==============================] - 4s 1ms/sample - loss: 1.8496 - acc: 0.6577\n",
      "750/750 [==============================] - 56s 74ms/step - loss: 0.1357 - acc: 0.9672 - val_loss: 1.8513 - val_acc: 0.6577\n",
      "Epoch 11/20\n",
      "3000/3000 [==============================] - 4s 1ms/sample - loss: 1.5881 - acc: 0.7053\n",
      "750/750 [==============================] - 56s 74ms/step - loss: 0.1204 - acc: 0.9733 - val_loss: 1.5899 - val_acc: 0.7053\n",
      "Epoch 12/20\n",
      "3000/3000 [==============================] - 4s 1ms/sample - loss: 1.1351 - acc: 0.6887\n",
      "750/750 [==============================] - 55s 73ms/step - loss: 0.0921 - acc: 0.9778 - val_loss: 1.1379 - val_acc: 0.6887\n",
      "Epoch 13/20\n",
      "3000/3000 [==============================] - 4s 1ms/sample - loss: 1.0268 - acc: 0.6980\n",
      "750/750 [==============================] - 55s 73ms/step - loss: 0.0918 - acc: 0.9797 - val_loss: 1.0264 - val_acc: 0.6980\n",
      "Epoch 14/20\n",
      "3000/3000 [==============================] - 4s 1ms/sample - loss: 1.5450 - acc: 0.5953\n",
      "750/750 [==============================] - 55s 73ms/step - loss: 0.0976 - acc: 0.9784 - val_loss: 1.5476 - val_acc: 0.5953\n",
      "Epoch 15/20\n",
      "3000/3000 [==============================] - 4s 1ms/sample - loss: 0.7920 - acc: 0.7493\n",
      "750/750 [==============================] - 55s 73ms/step - loss: 0.0766 - acc: 0.9832 - val_loss: 0.7915 - val_acc: 0.7493\n",
      "Epoch 16/20\n",
      "3000/3000 [==============================] - 4s 1ms/sample - loss: 1.1381 - acc: 0.72400s - lo - ETA: 9s - loss: 0.0500 -  \n",
      "750/750 [==============================] - 55s 73ms/step - loss: 0.0579 - acc: 0.9884 - val_loss: 1.1371 - val_acc: 0.7240\n",
      "Epoch 17/20\n",
      "3000/3000 [==============================] - 4s 1ms/sample - loss: 1.1608 - acc: 0.7077\n",
      "750/750 [==============================] - 55s 73ms/step - loss: 0.0747 - acc: 0.9844 - val_loss: 1.1606 - val_acc: 0.7077\n",
      "Epoch 18/20\n",
      "3000/3000 [==============================] - 4s 1ms/sample - loss: 0.8712 - acc: 0.7360\n",
      "750/750 [==============================] - 56s 74ms/step - loss: 0.0702 - acc: 0.9852 - val_loss: 0.8700 - val_acc: 0.7360\n",
      "Epoch 19/20\n",
      "3000/3000 [==============================] - 4s 1ms/sample - loss: 1.0852 - acc: 0.7560\n",
      "750/750 [==============================] - 55s 74ms/step - loss: 0.0399 - acc: 0.9902 - val_loss: 1.0850 - val_acc: 0.7560\n",
      "Epoch 20/20\n",
      "3000/3000 [==============================] - 4s 1ms/sample - loss: 1.2109 - acc: 0.6863\n",
      "750/750 [==============================] - 55s 74ms/step - loss: 0.0801 - acc: 0.9838 - val_loss: 1.2096 - val_acc: 0.6863\n"
     ]
    }
   ],
   "source": [
    "history = model.fit_generator(generator = train_generator,\n",
    "                   steps_per_epoch = step_size_train,\n",
    "                   epochs = epc,\n",
    "                   validation_data=(X_val, y_val_dummy))"
   ]
  },
  {
   "cell_type": "code",
   "execution_count": 11,
   "metadata": {},
   "outputs": [
    {
     "name": "stdout",
     "output_type": "stream",
     "text": [
      "3000/3000 [==============================] - 4s 1ms/sample - loss: 1.2109 - acc: 0.6863\n",
      "Baseline accuracy: 0.6863333582878113\n"
     ]
    }
   ],
   "source": [
    "print(f'Baseline accuracy: {model.evaluate(X_val, y_val_dummy)[1]}')"
   ]
  },
  {
   "cell_type": "code",
   "execution_count": 12,
   "metadata": {},
   "outputs": [
    {
     "data": {
      "image/png": "[encoded data removed]",
      "text/plain": [
       "<Figure size 576x576 with 2 Axes>"
      ]
     },
     "metadata": {
      "needs_background": "light"
     },
     "output_type": "display_data"
    }
   ],
   "source": [
    "import matplotlib.pyplot as plt\n",
    "\n",
    "acc = history.history['acc']\n",
    "val_acc = history.history['val_acc']\n",
    "\n",
    "loss = history.history['loss']\n",
    "val_loss = history.history['val_loss']\n",
    "\n",
    "plt.figure(figsize=(8, 8))\n",
    "plt.subplot(2, 1, 1)\n",
    "plt.plot(acc, label='Training Accuracy')\n",
    "plt.plot(val_acc, label='Validation Accuracy')\n",
    "plt.legend(loc='lower right')\n",
    "plt.ylabel('Accuracy')\n",
    "plt.ylim([min(plt.ylim()),1])\n",
    "plt.title('Training and Validation Accuracy')\n",
    "\n",
    "plt.subplot(2, 1, 2)\n",
    "plt.plot(loss, label='Training Loss')\n",
    "plt.plot(val_loss, label='Validation Loss')\n",
    "plt.legend(loc='upper right')\n",
    "plt.ylabel('Cross Entropy')\n",
    "\n",
    "plt.title('Training and Validation Loss')\n",
    "plt.xlabel('epoch')\n",
    "plt.show()"
   ]
  },
  {
   "cell_type": "code",
   "execution_count": 16,
   "metadata": {},
   "outputs": [],
   "source": [
    "mean_image = np.mean(X_test, axis=0)"
   ]
  },
  {
   "cell_type": "code",
   "execution_count": 17,
   "metadata": {},
   "outputs": [],
   "source": [
    "preds=model.predict(X_test)"
   ]
  },
  {
   "cell_type": "code",
   "execution_count": 18,
   "metadata": {},
   "outputs": [],
   "source": [
    "dd = []\n",
    "for i in range(preds.shape[0]):\n",
    "    datum = preds[i]\n",
    "    decoded_datum = np.argmax(preds[i])\n",
    "    dd.append(decoded_datum)"
   ]
  },
  {
   "cell_type": "code",
   "execution_count": 19,
   "metadata": {},
   "outputs": [],
   "source": [
    "import csv\n",
    "with open('prediction_labels_11_04_005.csv','w') as csvfile:\n",
    "    fieldnames = ['Id','label']\n",
    "    writer = csv.DictWriter(csvfile, fieldnames=fieldnames)\n",
    "    writer.writeheader()\n",
    "    for index,l in enumerate(dd):\n",
    "        filename = str(index)+'.png'\n",
    "        label = str(l)\n",
    "        writer.writerow({'Id': filename, 'label': label})\n"
   ]
  },
  {
   "cell_type": "code",
   "execution_count": 20,
   "metadata": {},
   "outputs": [],
   "source": [
    "import time\n",
    "\n",
    "cur_model_name = 'kaggle_{}'.format(int(time.time()))\n",
    "\n",
    "with tf.Session() as sess:\n",
    "    merge = tf.summary.merge_all()\n",
    "    writer = tf.summary.FileWriter(\"log/{}\".format(cur_model_name), sess.graph)\n",
    "    saver = tf.train.Saver()\n",
    "    sess.run(tf.global_variables_initializer())\n",
    "    saver.save(sess, 'KaggleModel/{}'.format(cur_model_name))\n"
   ]
  }
 ],
 "metadata": {
  "kernelspec": {
   "display_name": "Python 3",
   "language": "python",
   "name": "python3"
  },
  "language_info": {
   "codemirror_mode": {
    "name": "ipython",
    "version": 3
   },
   "file_extension": ".py",
   "mimetype": "text/x-python",
   "name": "python",
   "nbconvert_exporter": "python",
   "pygments_lexer": "ipython3",
   "version": "3.7.4"
  }
 },
 "nbformat": 4,
 "nbformat_minor": 4
}
